{
 "metadata": {
  "name": ""
 },
 "nbformat": 3,
 "nbformat_minor": 0,
 "worksheets": [
  {
   "cells": [
    {
     "cell_type": "code",
     "collapsed": false,
     "input": [
      "#README! IN THE H_CLUSTERS THERE IS AN OPTION TO NORMALIZE WHICH CHANGES THE RESULTS, PLEASE USE / DONT USE AS DATA SEES FIT\n",
      "import pandas as pd\n",
      "import numpy as np\n",
      "from pandas import Series, DataFrame\n",
      "import matplotlib.pyplot as plt\n",
      "from __future__ import division"
     ],
     "language": "python",
     "metadata": {},
     "outputs": [],
     "prompt_number": 1
    },
    {
     "cell_type": "code",
     "collapsed": false,
     "input": [
      "#1\n",
      "aapl = pd.read_csv(\"http://ichart.finance.yahoo.com/table.csv?s=AAPL\")"
     ],
     "language": "python",
     "metadata": {},
     "outputs": [],
     "prompt_number": 2
    },
    {
     "cell_type": "code",
     "collapsed": false,
     "input": [
      "#1\n",
      "goog = pd.read_csv(\"http://ichart.finance.yahoo.com/table.csv?s=GOOG\")"
     ],
     "language": "python",
     "metadata": {},
     "outputs": [],
     "prompt_number": 3
    },
    {
     "cell_type": "code",
     "collapsed": false,
     "input": [
      "#test data for section II\n",
      "testdata = goog.head(15)"
     ],
     "language": "python",
     "metadata": {},
     "outputs": [],
     "prompt_number": 4
    },
    {
     "cell_type": "code",
     "collapsed": false,
     "input": [
      "#test data for section II\n",
      "testdata = testdata.drop(\"Date\", axis=1)"
     ],
     "language": "python",
     "metadata": {},
     "outputs": [],
     "prompt_number": 5
    },
    {
     "cell_type": "code",
     "collapsed": false,
     "input": [
      "#2\n",
      "combined = pd.concat([aapl, goog], axis=1, keys=[\"AAPL\", \"GOOG\"], names=['Stock', 'Attribute'])\n",
      "combined.head()"
     ],
     "language": "python",
     "metadata": {},
     "outputs": [
      {
       "html": [
        "<div style=\"max-height:1000px;max-width:1500px;overflow:auto;\">\n",
        "<table border=\"1\" class=\"dataframe\">\n",
        "  <thead>\n",
        "    <tr>\n",
        "      <th>Stock</th>\n",
        "      <th colspan=\"7\" halign=\"left\">AAPL</th>\n",
        "      <th colspan=\"7\" halign=\"left\">GOOG</th>\n",
        "    </tr>\n",
        "    <tr>\n",
        "      <th>Attribute</th>\n",
        "      <th>Date</th>\n",
        "      <th>Open</th>\n",
        "      <th>High</th>\n",
        "      <th>Low</th>\n",
        "      <th>Close</th>\n",
        "      <th>Volume</th>\n",
        "      <th>Adj Close</th>\n",
        "      <th>Date</th>\n",
        "      <th>Open</th>\n",
        "      <th>High</th>\n",
        "      <th>Low</th>\n",
        "      <th>Close</th>\n",
        "      <th>Volume</th>\n",
        "      <th>Adj Close</th>\n",
        "    </tr>\n",
        "  </thead>\n",
        "  <tbody>\n",
        "    <tr>\n",
        "      <th>0</th>\n",
        "      <td> 2014-03-14</td>\n",
        "      <td> 528.79</td>\n",
        "      <td> 530.89</td>\n",
        "      <td> 523.00</td>\n",
        "      <td> 524.69</td>\n",
        "      <td> 8453600</td>\n",
        "      <td> 524.69</td>\n",
        "      <td> 2014-03-14</td>\n",
        "      <td> 1181.99</td>\n",
        "      <td> 1190.87</td>\n",
        "      <td> 1172.53</td>\n",
        "      <td> 1172.80</td>\n",
        "      <td> 2293900</td>\n",
        "      <td> 1172.80</td>\n",
        "    </tr>\n",
        "    <tr>\n",
        "      <th>1</th>\n",
        "      <td> 2014-03-13</td>\n",
        "      <td> 537.44</td>\n",
        "      <td> 539.66</td>\n",
        "      <td> 529.16</td>\n",
        "      <td> 530.65</td>\n",
        "      <td> 9191200</td>\n",
        "      <td> 530.65</td>\n",
        "      <td> 2014-03-13</td>\n",
        "      <td> 1207.95</td>\n",
        "      <td> 1210.50</td>\n",
        "      <td> 1184.76</td>\n",
        "      <td> 1189.06</td>\n",
        "      <td> 2339700</td>\n",
        "      <td> 1189.06</td>\n",
        "    </tr>\n",
        "    <tr>\n",
        "      <th>2</th>\n",
        "      <td> 2014-03-12</td>\n",
        "      <td> 534.51</td>\n",
        "      <td> 537.35</td>\n",
        "      <td> 532.00</td>\n",
        "      <td> 536.61</td>\n",
        "      <td> 7118800</td>\n",
        "      <td> 536.61</td>\n",
        "      <td> 2014-03-12</td>\n",
        "      <td> 1196.40</td>\n",
        "      <td> 1207.85</td>\n",
        "      <td> 1184.19</td>\n",
        "      <td> 1207.30</td>\n",
        "      <td> 1964300</td>\n",
        "      <td> 1207.30</td>\n",
        "    </tr>\n",
        "    <tr>\n",
        "      <th>3</th>\n",
        "      <td> 2014-03-11</td>\n",
        "      <td> 535.45</td>\n",
        "      <td> 538.74</td>\n",
        "      <td> 532.59</td>\n",
        "      <td> 536.09</td>\n",
        "      <td> 9972300</td>\n",
        "      <td> 536.09</td>\n",
        "      <td> 2014-03-11</td>\n",
        "      <td> 1213.77</td>\n",
        "      <td> 1214.32</td>\n",
        "      <td> 1196.64</td>\n",
        "      <td> 1199.99</td>\n",
        "      <td> 1713000</td>\n",
        "      <td> 1199.99</td>\n",
        "    </tr>\n",
        "    <tr>\n",
        "      <th>4</th>\n",
        "      <td> 2014-03-10</td>\n",
        "      <td> 528.36</td>\n",
        "      <td> 533.33</td>\n",
        "      <td> 528.34</td>\n",
        "      <td> 530.92</td>\n",
        "      <td> 6378000</td>\n",
        "      <td> 530.92</td>\n",
        "      <td> 2014-03-10</td>\n",
        "      <td> 1215.69</td>\n",
        "      <td> 1217.64</td>\n",
        "      <td> 1204.09</td>\n",
        "      <td> 1211.57</td>\n",
        "      <td> 1214600</td>\n",
        "      <td> 1211.57</td>\n",
        "    </tr>\n",
        "  </tbody>\n",
        "</table>\n",
        "<p>5 rows \u00d7 14 columns</p>\n",
        "</div>"
       ],
       "metadata": {},
       "output_type": "pyout",
       "prompt_number": 6,
       "text": [
        "Stock            AAPL    AAPL                                              \\\n",
        "Attribute        Date    Open    High     Low   Close   Volume  Adj Close   \n",
        "0          2014-03-14  528.79  530.89  523.00  524.69  8453600     524.69   \n",
        "1          2014-03-13  537.44  539.66  529.16  530.65  9191200     530.65   \n",
        "2          2014-03-12  534.51  537.35  532.00  536.61  7118800     536.61   \n",
        "3          2014-03-11  535.45  538.74  532.59  536.09  9972300     536.09   \n",
        "4          2014-03-10  528.36  533.33  528.34  530.92  6378000     530.92   \n",
        "\n",
        "Stock            GOOG     GOOG                                                 \n",
        "Attribute        Date     Open     High      Low    Close   Volume  Adj Close  \n",
        "0          2014-03-14  1181.99  1190.87  1172.53  1172.80  2293900    1172.80  \n",
        "1          2014-03-13  1207.95  1210.50  1184.76  1189.06  2339700    1189.06  \n",
        "2          2014-03-12  1196.40  1207.85  1184.19  1207.30  1964300    1207.30  \n",
        "3          2014-03-11  1213.77  1214.32  1196.64  1199.99  1713000    1199.99  \n",
        "4          2014-03-10  1215.69  1217.64  1204.09  1211.57  1214600    1211.57  \n",
        "\n",
        "[5 rows x 14 columns]"
       ]
      }
     ],
     "prompt_number": 6
    },
    {
     "cell_type": "code",
     "collapsed": false,
     "input": [
      "#section II driver function\n",
      "def h_cluster(data, k, linkage):\n",
      "    x_clusters = []\n",
      "    for i in range(0,len(data)):\n",
      "        x_clusters.append([i])\n",
      "    #THIS NEXT LINE IS OPTIONAL DEPENDING ON IF YOU WANT TO NORMALIZE DATA OR NOT - NOT SURE IF WE WERE SUPPOSED\n",
      "    #TO ACCOUNT FOR THIS OR NOT, BUT OBVIOUSLY IT CHANGES TEH RESULTS - COMMENT OUT THE LINE FOR ORIGINAL CODE RESULTS\n",
      "    ############################\n",
      "    data = normalize(data) #####\n",
      "    ############################\n",
      "    while len(x_clusters) > k:\n",
      "        x_clusters = combine_clusters(data, x_clusters, linkage)\n",
      "\n",
      "    return x_clusters"
     ],
     "language": "python",
     "metadata": {},
     "outputs": [],
     "prompt_number": 133
    },
    {
     "cell_type": "code",
     "collapsed": false,
     "input": [
      "#helper function to calculate distance\n",
      "def distance(x, y):\n",
      "    total = 0.0\n",
      "    for i in range(0, len(x)):\n",
      "        total = total + (x[i]-y[i])*(x[i]-y[i])\n",
      "    dist = sqrt(total)\n",
      "    return dist"
     ],
     "language": "python",
     "metadata": {},
     "outputs": [],
     "prompt_number": 120
    },
    {
     "cell_type": "code",
     "collapsed": false,
     "input": [
      "#helper function OPTIONAL \n",
      "def normalize(data):\n",
      "    for i in data.columns:\n",
      "        low = min(data[i])\n",
      "        high = max(data[i])\n",
      "        for j in range(0, len(data)):\n",
      "            data[i].ix[j] = (data[i].ix[j] - low) / (high - low)\n",
      "    return data"
     ],
     "language": "python",
     "metadata": {},
     "outputs": [],
     "prompt_number": 121
    },
    {
     "cell_type": "code",
     "collapsed": false,
     "input": [
      "#helper function to do clustering work\n",
      "def combine_clusters(data, x_clusters, linkage):\n",
      "    if linkage == \"min\":\n",
      "        first = 0\n",
      "        second = 0\n",
      "        qualifier = 1000000000\n",
      "        #minimum - no need for resets, as min overall will get combined regardless of where in i or j\n",
      "        for i in range(0, len(x_clusters)-1):\n",
      "            for j in range(i+1, len(x_clusters)):\n",
      "                for l in range(0, len(x_clusters[i])):\n",
      "                    for k in range(0, len(x_clusters[j])):\n",
      "                        t = distance(data.ix[x_clusters[i][l]], data.ix[x_clusters[j][k]])\n",
      "                        if  t < qualifier:\n",
      "                            qualifier = t\n",
      "                            first = i\n",
      "                            second = j\n",
      "        \n",
      "        x_clusters[first] = list(x_clusters[first] + x_clusters[second])\n",
      "        x_clusters.remove(x_clusters[second])\n",
      "        return x_clusters\n",
      "\n",
      "    elif linkage == \"max\":\n",
      "        first = 0\n",
      "        second = 0\n",
      "        localmax = 0\n",
      "        minimax = 1000000000\n",
      "        # need to loop through all i and all j before incrementing j, then i with local reset in each list comparison\n",
      "        for i in range(0, len(x_clusters)-1):\n",
      "            localmax = 0        \n",
      "            for j in range(i+1, len(x_clusters)):\n",
      "                localmax = 0\n",
      "                for l in range(0, len(x_clusters[i])):    \n",
      "                    for k in range(0, len(x_clusters[j])):\n",
      "                        #find max between all il, jk\n",
      "                        t = distance(data.ix[x_clusters[i][l]], data.ix[x_clusters[j][k]])\n",
      "                        if  t > localmax:\n",
      "                            localmax = t\n",
      "                #after two composite lists have been compared, check to see if this dist is less than the global min of maxes\n",
      "                if localmax < minimax:\n",
      "                    minimax = localmax\n",
      "                    first = i\n",
      "                    second = j\n",
      "        x_clusters[first] = list(x_clusters[first] + x_clusters[second])\n",
      "        x_clusters.remove(x_clusters[second])\n",
      "        return x_clusters\n",
      "    \n",
      "    elif linkage == \"average\":\n",
      "        first = 0\n",
      "        second = 0\n",
      "        minave = 0\n",
      "        globalave = 1000000000\n",
      "        #add up all distances between all in i and all in j, divide by total orders of i and j\n",
      "        for i in range(0, len(x_clusters)-1):\n",
      "            localave = 0\n",
      "            for j in range(i+1, len(x_clusters)):\n",
      "                localave = 0\n",
      "                for l in range(0, len(x_clusters[i])):\n",
      "                    for k in range(0, len(x_clusters[j])):\n",
      "                        t = distance(data.ix[x_clusters[i][l]], data.ix[x_clusters[j][k]])\n",
      "                        localave = localave+t\n",
      "                localave = localave/(len(x_clusters[i])+len(x_clusters[j]))        \n",
      "                #check if ave dist i,j is smaller than global ave, minimum ave gets combined\n",
      "                if  localave < globalave:\n",
      "                        globalave = localave\n",
      "                        first = i\n",
      "                        second = j\n",
      "        \n",
      "        x_clusters[first] = list(x_clusters[first] + x_clusters[second])\n",
      "        x_clusters.remove(x_clusters[second])\n",
      "        return x_clusters\n",
      "    \n",
      "    elif linkage == \"mean\":\n",
      "        first = 0\n",
      "        second = 0\n",
      "        localmean = 0\n",
      "        globalmean = 1000000000\n",
      "        #find total over all i, then find total over all j, subtract mean i - mean j\n",
      "        #can be made a single scalar x0 as cluster centroid vs dimensional coordinates\n",
      "        for i in range(0, len(x_clusters)-1):\n",
      "            firstcenter = 0\n",
      "            for l in range(0, len(x_clusters[i])):\n",
      "                firstcenter = sum(data.ix[x_clusters[i][l]]) + firstcenter\n",
      "            firstcenter = firstcenter/len(x_clusters[i]) #i centroid\n",
      "            for j in range(i+1, len(x_clusters)):\n",
      "                secondcenter = 0\n",
      "                for k in range(0, len(x_clusters[j])):\n",
      "                    secondcenter = secondcenter + sum(data.ix[x_clusters[j][k]])\n",
      "                secondcenter = secondcenter/len(x_clusters[j])#j centroid\n",
      "                localmean = abs(firstcenter - secondcenter) \n",
      "                #for each held i, j-> pair, what is the dist in abs     \n",
      "                if  localmean < globalmean:#update\n",
      "                    globalmean = localmean\n",
      "                    first = i\n",
      "                    second = j\n",
      "             #move i up, repeat       \n",
      "        x_clusters[first] = list(x_clusters[first] + x_clusters[second])\n",
      "        x_clusters.remove(x_clusters[second])\n",
      "        return x_clusters\n",
      "        "
     ],
     "language": "python",
     "metadata": {},
     "outputs": [],
     "prompt_number": 134
    },
    {
     "cell_type": "code",
     "collapsed": false,
     "input": [
      "#test h_cluster on testdata which is head(x) of goog\n",
      "h_cluster(testdata, 3, \"min\")"
     ],
     "language": "python",
     "metadata": {},
     "outputs": [
      {
       "metadata": {},
       "output_type": "pyout",
       "prompt_number": 135,
       "text": [
        "[[0], [1], [2, 9, 3, 4, 6, 11, 7, 13, 8, 5, 14, 10, 12]]"
       ]
      }
     ],
     "prompt_number": 135
    },
    {
     "cell_type": "code",
     "collapsed": false,
     "input": [
      "h_cluster(testdata, 3, \"max\")"
     ],
     "language": "python",
     "metadata": {},
     "outputs": [
      {
       "metadata": {},
       "output_type": "pyout",
       "prompt_number": 136,
       "text": [
        "[[0], [1, 2, 9, 3], [4, 8, 14, 5, 6, 11, 7, 13, 10, 12]]"
       ]
      }
     ],
     "prompt_number": 136
    },
    {
     "cell_type": "code",
     "collapsed": false,
     "input": [
      "h_cluster(testdata, 3, \"average\")"
     ],
     "language": "python",
     "metadata": {},
     "outputs": [
      {
       "metadata": {},
       "output_type": "pyout",
       "prompt_number": 137,
       "text": [
        "[[0, 1, 2, 9], [3, 14, 4, 8, 10, 12], [5, 6, 11, 7, 13]]"
       ]
      }
     ],
     "prompt_number": 137
    },
    {
     "cell_type": "code",
     "collapsed": false,
     "input": [
      "h_cluster(testdata, 3, \"mean\")"
     ],
     "language": "python",
     "metadata": {},
     "outputs": [
      {
       "metadata": {},
       "output_type": "pyout",
       "prompt_number": 138,
       "text": [
        "[[0], [1, 2, 3, 9, 4], [5, 6, 11, 13, 7, 8, 14, 10, 12]]"
       ]
      }
     ],
     "prompt_number": 138
    },
    {
     "cell_type": "code",
     "collapsed": false,
     "input": [],
     "language": "python",
     "metadata": {},
     "outputs": []
    }
   ],
   "metadata": {}
  }
 ]
}